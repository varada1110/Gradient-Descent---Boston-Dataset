{
 "cells": [
  {
   "cell_type": "code",
   "execution_count": 182,
   "id": "71243d42",
   "metadata": {},
   "outputs": [],
   "source": [
    "import numpy as np\n",
    "data=np.genfromtxt(\"test_boston.csv\",delimiter=\",\")\n",
    "dataset=np.genfromtxt(\"train_boston.csv\",delimiter=\",\")\n",
    "dataset.shape\n",
    "x=dataset[:,:-1]\n",
    "y=dataset[:,-1]"
   ]
  },
  {
   "cell_type": "code",
   "execution_count": 183,
   "id": "b8bd2bd3",
   "metadata": {},
   "outputs": [],
   "source": [
    "def step_gradeint(points,learning_rate,m,c):\n",
    "    m_slope=0\n",
    "    c_slope=0\n",
    "    M=len(points)\n",
    "    for i in range(M):\n",
    "        x=points[i,0]\n",
    "        y=points[i,1]\n",
    "        m_slope += (-2/M)*(y-m*x-c)*(x)\n",
    "        c_slope += (-2/M)*(y-m*x-c)\n",
    "    new_m = m - learning_rate*m_slope\n",
    "    new_c = c - learning_rate*c_slope\n",
    "    return new_m,new_c"
   ]
  },
  {
   "cell_type": "code",
   "execution_count": 184,
   "id": "e81f0738",
   "metadata": {},
   "outputs": [],
   "source": [
    "def gd(points,learning_rate,num_iterations):\n",
    "    m=0\n",
    "    c=0\n",
    "    for i in range(num_iterations):\n",
    "        m,c=step_gradeint(points,learning_rate,m,c)\n",
    "        print(i,\"Cost:\",cost(points,m,c))\n",
    "    return m,c"
   ]
  },
  {
   "cell_type": "code",
   "execution_count": 185,
   "id": "1bf083c7",
   "metadata": {},
   "outputs": [],
   "source": [
    "def cost(points,m,c):\n",
    "    total_cost=0\n",
    "    M = len(points)\n",
    "    for i in range(M):\n",
    "        x=points[i,0]\n",
    "        y=points[i,1]\n",
    "        total_cost += (1/M)*((y-m*x-c)**2)\n",
    "    return total_cost"
   ]
  },
  {
   "cell_type": "code",
   "execution_count": 186,
   "id": "4a4fb813",
   "metadata": {},
   "outputs": [],
   "source": [
    "from sklearn import model_selection\n",
    "X_train,X_test,Y_train,Y_test=model_selection.train_test_split(x,y)"
   ]
  },
  {
   "cell_type": "code",
   "execution_count": 187,
   "id": "bda4e960",
   "metadata": {},
   "outputs": [
    {
     "data": {
      "text/plain": [
       "(0.6580631742333956, 0.7505548151706432)"
      ]
     },
     "execution_count": 187,
     "metadata": {},
     "output_type": "execute_result"
    }
   ],
   "source": [
    "from sklearn.linear_model import LinearRegression\n",
    "alg1 = LinearRegression()\n",
    "alg1.fit(X_train,Y_train)\n",
    "Y_pred = alg1.predict(data) \n",
    "score_test = alg1.score(X_test,Y_test)\n",
    "score_train = alg1.score(X_train,Y_train)\n",
    "score_test,score_train\n"
   ]
  },
  {
   "cell_type": "code",
   "execution_count": 188,
   "id": "ac51e8ae",
   "metadata": {},
   "outputs": [],
   "source": [
    "Y_pred\n",
    "np.savetxt(\"test2_boston\",Y_pred,delimiter=\",\",fmt=\"%.5f\")"
   ]
  },
  {
   "cell_type": "code",
   "execution_count": null,
   "id": "e74f902f",
   "metadata": {},
   "outputs": [],
   "source": []
  },
  {
   "cell_type": "code",
   "execution_count": 193,
   "id": "49ad02b8",
   "metadata": {},
   "outputs": [],
   "source": [
    "def run():\n",
    "    data=np.genfromtxt(\"test_boston.csv\",delimiter=\",\")\n",
    "    dataset=np.genfromtxt(\"train_boston.csv\",delimiter=\",\")\n",
    "    learning_rate=0.1\n",
    "    num_iterations=30\n",
    "    m,c=gd(data,learning_rate,num_iterations)\n",
    "    print(m,c)"
   ]
  },
  {
   "cell_type": "code",
   "execution_count": 194,
   "id": "6705538d",
   "metadata": {},
   "outputs": [
    {
     "name": "stdout",
     "output_type": "stream",
     "text": [
      "0 Cost: 0.992294643698412\n",
      "1 Cost: 0.983943766630149\n",
      "2 Cost: 0.9774359182837045\n",
      "3 Cost: 0.9723631233086727\n",
      "4 Cost: 0.9684081570710149\n",
      "5 Cost: 0.9653242003098457\n",
      "6 Cost: 0.962919111800618\n",
      "7 Cost: 0.9610432506438057\n",
      "8 Cost: 0.9595800340518656\n",
      "9 Cost: 0.9584386078148749\n",
      "10 Cost: 0.9575481513867494\n",
      "11 Cost: 0.9568534496139101\n",
      "12 Cost: 0.9563114471900885\n",
      "13 Cost: 0.9558885663463342\n",
      "14 Cost: 0.9555586178121168\n",
      "15 Cost: 0.9553011732551734\n",
      "16 Cost: 0.9551002968912254\n",
      "17 Cost: 0.9549435567683251\n",
      "18 Cost: 0.9548212539096467\n",
      "19 Cost: 0.9547258212155947\n",
      "20 Cost: 0.9546513546798868\n",
      "21 Cost: 0.9545932477558684\n",
      "22 Cost: 0.9545479061514244\n",
      "23 Cost: 0.9545125253448248\n",
      "24 Cost: 0.9544849170181772\n",
      "25 Cost: 0.9544633736465788\n",
      "26 Cost: 0.9544465628509826\n",
      "27 Cost: 0.9544334449700359\n",
      "28 Cost: 0.9544232087461904\n",
      "29 Cost: 0.9544152211442726\n",
      "-0.2805093775568349 -0.023210788428604627\n"
     ]
    }
   ],
   "source": [
    "run()"
   ]
  },
  {
   "cell_type": "code",
   "execution_count": null,
   "id": "335a5406",
   "metadata": {},
   "outputs": [],
   "source": []
  },
  {
   "cell_type": "code",
   "execution_count": null,
   "id": "9e3292e0",
   "metadata": {},
   "outputs": [],
   "source": []
  },
  {
   "cell_type": "code",
   "execution_count": null,
   "id": "82a5daaa",
   "metadata": {},
   "outputs": [],
   "source": []
  },
  {
   "cell_type": "code",
   "execution_count": null,
   "id": "1a899e06",
   "metadata": {},
   "outputs": [],
   "source": []
  }
 ],
 "metadata": {
  "kernelspec": {
   "display_name": "Python 3",
   "language": "python",
   "name": "python3"
  },
  "language_info": {
   "codemirror_mode": {
    "name": "ipython",
    "version": 3
   },
   "file_extension": ".py",
   "mimetype": "text/x-python",
   "name": "python",
   "nbconvert_exporter": "python",
   "pygments_lexer": "ipython3",
   "version": "3.8.8"
  }
 },
 "nbformat": 4,
 "nbformat_minor": 5
}
